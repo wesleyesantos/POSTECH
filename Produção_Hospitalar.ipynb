{
  "nbformat": 4,
  "nbformat_minor": 0,
  "metadata": {
    "colab": {
      "provenance": [],
      "authorship_tag": "ABX9TyPwbu9gvq5/pyRvv9nN+dvi",
      "include_colab_link": true
    },
    "kernelspec": {
      "name": "python3",
      "display_name": "Python 3"
    },
    "language_info": {
      "name": "python"
    }
  },
  "cells": [
    {
      "cell_type": "markdown",
      "metadata": {
        "id": "view-in-github",
        "colab_type": "text"
      },
      "source": [
        "<a href=\"https://colab.research.google.com/github/wesleyesantos/POSTECH/blob/main/Produ%C3%A7%C3%A3o_Hospitalar.ipynb\" target=\"_parent\"><img src=\"https://colab.research.google.com/assets/colab-badge.svg\" alt=\"Open In Colab\"/></a>"
      ]
    },
    {
      "cell_type": "markdown",
      "source": [
        "#Analisando dados de produção hospitalar"
      ],
      "metadata": {
        "id": "4tF_kLA62eOH"
      }
    },
    {
      "cell_type": "code",
      "execution_count": 1,
      "metadata": {
        "id": "Dag36leX2bjf"
      },
      "outputs": [],
      "source": [
        "import pandas as pd"
      ]
    },
    {
      "cell_type": "markdown",
      "source": [
        "####Erro por falta do content"
      ],
      "metadata": {
        "id": "arLMXJd574h0"
      }
    },
    {
      "cell_type": "code",
      "source": [
        "#Código incorreto por falta do content\n",
        "dados = pd.read_csv(\"A150850189_28_143_208.csv\", encoding = \"ISO-8859-1\", skiprows = 3,\n",
        "                    sep = \";\", skipfooter= 12, thousands = \".\", decimal = \",\")"
      ],
      "metadata": {
        "id": "mohX92I72njG"
      },
      "execution_count": null,
      "outputs": []
    },
    {
      "cell_type": "code",
      "source": [
        "#dados é o dataframe ou dataset\n",
        "#Código correto\n",
        "dados = pd.read_csv(\"/content/A150850189_28_143_208.csv\",encoding='ISO-8859-1', skiprows=3, sep=';',skipfooter=12, thousands='.', decimal=',',engine='python') #2ª célula"
      ],
      "metadata": {
        "id": "uPAdK7bU6tC2"
      },
      "execution_count": 23,
      "outputs": []
    },
    {
      "cell_type": "code",
      "source": [
        "#mostra as 5 primeiras linhas da tabela ou a quantidade definida\n",
        "dados.head()"
      ],
      "metadata": {
        "id": "zdUzTmM44jbI"
      },
      "execution_count": null,
      "outputs": []
    },
    {
      "cell_type": "code",
      "source": [
        "#Trás as últimas linhas\n",
        "dados.tail()"
      ],
      "metadata": {
        "id": "9ZKsXybk5oA1"
      },
      "execution_count": null,
      "outputs": []
    },
    {
      "cell_type": "code",
      "source": [
        "#Trás as médias\n",
        "dados.mean()"
      ],
      "metadata": {
        "colab": {
          "base_uri": "https://localhost:8080/"
        },
        "id": "xi6P8wpe5ulT",
        "outputId": "5a2e1bdd-09f4-4250-8b18-5ce3737998ea"
      },
      "execution_count": 33,
      "outputs": [
        {
          "output_type": "stream",
          "name": "stderr",
          "text": [
            "<ipython-input-33-99af3ba13e28>:1: FutureWarning: The default value of numeric_only in DataFrame.mean is deprecated. In a future version, it will default to False. In addition, specifying 'numeric_only=None' is deprecated. Select only valid columns or specify the value of numeric_only to silence this warning.\n",
            "  dados.mean()\n"
          ]
        },
        {
          "output_type": "execute_result",
          "data": {
            "text/plain": [
              "2007/Ago    3.049528e+05\n",
              "2007/Set    7.881453e+05\n",
              "2007/Out    2.440163e+06\n",
              "2007/Nov    5.517354e+06\n",
              "2007/Dez    1.233716e+07\n",
              "                ...     \n",
              "2021/Mai    8.727186e+07\n",
              "2021/Jun    7.759041e+07\n",
              "2021/Jul    6.084629e+07\n",
              "2021/Ago    4.388572e+07\n",
              "Total       6.852321e+09\n",
              "Length: 170, dtype: float64"
            ]
          },
          "metadata": {},
          "execution_count": 33
        }
      ]
    },
    {
      "cell_type": "code",
      "source": [
        "# pd.options (nas opções) display (mostra) float_float (Flutuante)\n",
        "#\":\" (dois pontos) a partir de \".\" (ponto) então mostre\n",
        "pd.options.display.float_format = \"{:.4f}\".format"
      ],
      "metadata": {
        "id": "yVO5Pnpc5yVD"
      },
      "execution_count": 38,
      "outputs": []
    },
    {
      "cell_type": "code",
      "source": [
        "#retorna a média\n",
        "dados.mean()"
      ],
      "metadata": {
        "colab": {
          "base_uri": "https://localhost:8080/"
        },
        "id": "mXBJJjfH_Fgf",
        "outputId": "0bcf52f4-3012-487d-b0fd-0cfbdfeb4ebc"
      },
      "execution_count": 48,
      "outputs": [
        {
          "output_type": "stream",
          "name": "stderr",
          "text": [
            "<ipython-input-48-f55a8b0d0e99>:2: FutureWarning: The default value of numeric_only in DataFrame.mean is deprecated. In a future version, it will default to False. In addition, specifying 'numeric_only=None' is deprecated. Select only valid columns or specify the value of numeric_only to silence this warning.\n",
            "  dados.mean()\n"
          ]
        },
        {
          "output_type": "execute_result",
          "data": {
            "text/plain": [
              "2007/Ago       304952.7741\n",
              "2007/Set       788145.2585\n",
              "2007/Out      2440162.9637\n",
              "2007/Nov      5517354.0493\n",
              "2007/Dez     12337159.4222\n",
              "                 ...      \n",
              "2021/Mai     87271862.2007\n",
              "2021/Jun     77590406.4656\n",
              "2021/Jul     60846287.0137\n",
              "2021/Ago     43885716.2985\n",
              "Total      6852320913.4852\n",
              "Length: 170, dtype: float64"
            ]
          },
          "metadata": {},
          "execution_count": 48
        }
      ]
    },
    {
      "cell_type": "code",
      "source": [
        "#retorna informações de tipo dos dados, quantidade de memória utilizada, quantidade de entradas, células nulas\n",
        "dados.info()"
      ],
      "metadata": {
        "colab": {
          "base_uri": "https://localhost:8080/"
        },
        "id": "kEgr46V0B5op",
        "outputId": "de6d6c1b-b639-4728-a6eb-355a6877f11f"
      },
      "execution_count": 49,
      "outputs": [
        {
          "output_type": "stream",
          "name": "stdout",
          "text": [
            "<class 'pandas.core.frame.DataFrame'>\n",
            "RangeIndex: 27 entries, 0 to 26\n",
            "Columns: 293 entries, Unidade da Federação to Total\n",
            "dtypes: float64(170), object(123)\n",
            "memory usage: 61.9+ KB\n"
          ]
        }
      ]
    },
    {
      "cell_type": "code",
      "source": [],
      "metadata": {
        "id": "q9JLU-RzCfYp"
      },
      "execution_count": null,
      "outputs": []
    }
  ]
}