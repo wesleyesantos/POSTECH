{
  "nbformat": 4,
  "nbformat_minor": 0,
  "metadata": {
    "colab": {
      "provenance": [],
      "authorship_tag": "ABX9TyPKO8a3/bhBByTNaNsBeVSM",
      "include_colab_link": true
    },
    "kernelspec": {
      "name": "python3",
      "display_name": "Python 3"
    },
    "language_info": {
      "name": "python"
    }
  },
  "cells": [
    {
      "cell_type": "markdown",
      "metadata": {
        "id": "view-in-github",
        "colab_type": "text"
      },
      "source": [
        "<a href=\"https://colab.research.google.com/github/wesleyesantos/POSTECH/blob/main/Estat%C3%ADsticas_e_Algelin_em_Python.ipynb\" target=\"_parent\"><img src=\"https://colab.research.google.com/assets/colab-badge.svg\" alt=\"Open In Colab\"/></a>"
      ]
    },
    {
      "cell_type": "markdown",
      "source": [
        "#Métodos Matemáticos para DATA ANALYTICS\n",
        "\n"
      ],
      "metadata": {
        "id": "HPb9JLCt6pHI"
      }
    },
    {
      "cell_type": "markdown",
      "source": [
        "\n",
        "\n",
        "- álgebra linear  --> x + 2 = 5 - > x =3 (Resolver sistemas de equações lineares)\n",
        "- x + y = 10 -> -3 + 13 =10 -------------(0,10), (2,8) -- infinitas sol. (diofantina)\n",
        "- 2x - y =11"
      ],
      "metadata": {
        "id": "XOxgZkRo67rE"
      }
    },
    {
      "cell_type": "markdown",
      "source": [
        "####Bibliotecas: Numpy, scipy, sympy\n"
      ],
      "metadata": {
        "id": "L3Kosb5T7FTH"
      }
    },
    {
      "cell_type": "markdown",
      "source": [
        "- Linguagem Katex"
      ],
      "metadata": {
        "id": "PefFQL298Mn0"
      }
    },
    {
      "cell_type": "code",
      "source": [
        "#Bibliotecas para trabalhar com números e símbolos númericos em geral\n",
        "import numpy as np\n",
        "import scipy as sc\n",
        "import sympy as sy"
      ],
      "metadata": {
        "id": "97maRo548L7o"
      },
      "execution_count": 2,
      "outputs": []
    },
    {
      "cell_type": "code",
      "source": [
        "#componentes principais: escalar, vetor e matriz\n",
        "#Escalar é um número, considerado um tensor de ordem 0\n",
        "#Vetor é necessidade de dois eixos\n",
        "\n",
        "#Escalar\n",
        "x = 2\n",
        "#O x2 se tornou um vetor escalar\n",
        "x2 = np.array([1,2,3])\n",
        "#o x3 é uma matriz coluna, um vetor que possue 3 vetores com elementos escalares\n",
        "x3 = np.array([[1],[2],[3]])\n",
        "#np.matrix cria matriz, porém é mais usado array, Matriz tradicional\n",
        "x4 = np.array([[1,2,3],[1,2,3],[1,2,3]])\n",
        "\n",
        "#Matriz com 3 vetores (x,y,z) podem criar um objeto 3d por ter 3 dimensões (Altura, largura e profundidade)"
      ],
      "metadata": {
        "id": "cHsgydzf8Zxo"
      },
      "execution_count": 10,
      "outputs": []
    },
    {
      "cell_type": "code",
      "source": [
        "#quase uma lista, diferencia-se de uma lista por não conter vírgulas\n",
        "print(x2)\n",
        "print()\n",
        "print(x3)\n",
        "print()\n",
        "print(x4)"
      ],
      "metadata": {
        "colab": {
          "base_uri": "https://localhost:8080/"
        },
        "id": "111atSUo9dbp",
        "outputId": "672b0b53-bcb1-445c-d89e-da5b5408f42e"
      },
      "execution_count": 11,
      "outputs": [
        {
          "output_type": "stream",
          "name": "stdout",
          "text": [
            "[1 2 3]\n",
            "\n",
            "[[1]\n",
            " [2]\n",
            " [3]]\n",
            "\n",
            "[[1 2 3]\n",
            " [1 2 3]\n",
            " [1 2 3]]\n"
          ]
        }
      ]
    },
    {
      "cell_type": "code",
      "source": [
        "import pandas as pd"
      ],
      "metadata": {
        "id": "0DhsGoH59eSG"
      },
      "execution_count": 12,
      "outputs": []
    },
    {
      "cell_type": "code",
      "source": [
        "lista = [1,2,3,4,5]\n",
        "\n",
        "df = pd.DataFrame({'coluna 1': lista})"
      ],
      "metadata": {
        "id": "7XtzdGTIBfT-"
      },
      "execution_count": 16,
      "outputs": []
    },
    {
      "cell_type": "code",
      "source": [
        "type(df)"
      ],
      "metadata": {
        "colab": {
          "base_uri": "https://localhost:8080/"
        },
        "id": "gm1g587sBnpH",
        "outputId": "375fe25c-851c-4120-cb76-718fac92bf32"
      },
      "execution_count": 18,
      "outputs": [
        {
          "output_type": "execute_result",
          "data": {
            "text/plain": [
              "pandas.core.frame.DataFrame"
            ]
          },
          "metadata": {},
          "execution_count": 18
        }
      ]
    },
    {
      "cell_type": "markdown",
      "source": [
        "####Analogia de conceitos: Vetores e Matrizes"
      ],
      "metadata": {
        "id": "x14liVQ0DtHP"
      }
    },
    {
      "cell_type": "code",
      "source": [
        "#Um array pode ser conhecido como um dataframe, no caso abaixo transformamos o caso anterior que era uma lista em array\n",
        "\n",
        "#MATRIZ == DATAFRAME\n",
        "#VETOR == SERIES\n",
        "\n",
        "lista = np.array([1,2,3,4,5])\n",
        "\n",
        "df = pd.DataFrame({'coluna': lista, 'coluna 2': lista})"
      ],
      "metadata": {
        "id": "mAfgFVo5BpNX"
      },
      "execution_count": 27,
      "outputs": []
    },
    {
      "cell_type": "code",
      "source": [
        "type(df['coluna'])"
      ],
      "metadata": {
        "colab": {
          "base_uri": "https://localhost:8080/"
        },
        "id": "L1Py8NOBCgle",
        "outputId": "ba3cf051-05e1-4c00-86a7-378b144b6e02"
      },
      "execution_count": 31,
      "outputs": [
        {
          "output_type": "execute_result",
          "data": {
            "text/plain": [
              "pandas.core.series.Series"
            ]
          },
          "metadata": {},
          "execution_count": 31
        }
      ]
    },
    {
      "cell_type": "code",
      "source": [
        "#acessa lista por elementos\n",
        "#Vetor no caso abaixo pega o primeiro elemento vetor\n",
        "#lista [:,1] #Não é possível fazer mais de uma seleção por se tratar de um array\n",
        "lista[0] #primeiro elemento\n",
        "lista[1] #segundo elemento\n",
        "lista [:1] #pega do elemento 1 para traz"
      ],
      "metadata": {
        "colab": {
          "base_uri": "https://localhost:8080/"
        },
        "id": "z5MKqraoChpW",
        "outputId": "cda47f25-2ecb-48ec-ce6c-e4329fb3d163"
      },
      "execution_count": 37,
      "outputs": [
        {
          "output_type": "execute_result",
          "data": {
            "text/plain": [
              "array([1])"
            ]
          },
          "metadata": {},
          "execution_count": 37
        }
      ]
    },
    {
      "cell_type": "code",
      "source": [
        "x=3\n",
        "y=2\n",
        "\n",
        "print(2/3)"
      ],
      "metadata": {
        "colab": {
          "base_uri": "https://localhost:8080/"
        },
        "id": "rs178lnOD9ce",
        "outputId": "cb617b8b-1d3b-4ad1-97e5-f5b5309ff6b5"
      },
      "execution_count": 39,
      "outputs": [
        {
          "output_type": "stream",
          "name": "stdout",
          "text": [
            "0.6666666666666666\n"
          ]
        }
      ]
    },
    {
      "cell_type": "markdown",
      "source": [
        "####Soma"
      ],
      "metadata": {
        "id": "iFP3lOv6O5Ej"
      }
    },
    {
      "cell_type": "code",
      "source": [
        "x2 + x3"
      ],
      "metadata": {
        "colab": {
          "base_uri": "https://localhost:8080/"
        },
        "id": "jgcF7uI_ESYl",
        "outputId": "2b48ac9d-7981-4673-cf39-851fadb9db13"
      },
      "execution_count": 40,
      "outputs": [
        {
          "output_type": "execute_result",
          "data": {
            "text/plain": [
              "array([[2, 3, 4],\n",
              "       [3, 4, 5],\n",
              "       [4, 5, 6]])"
            ]
          },
          "metadata": {},
          "execution_count": 40
        }
      ]
    },
    {
      "cell_type": "code",
      "source": [
        "x3 + x4"
      ],
      "metadata": {
        "colab": {
          "base_uri": "https://localhost:8080/"
        },
        "id": "Az_sYA-LHlRl",
        "outputId": "ed88da28-ada8-4f85-80a4-dcd7cbed783d"
      },
      "execution_count": 42,
      "outputs": [
        {
          "output_type": "execute_result",
          "data": {
            "text/plain": [
              "array([[2, 3, 4],\n",
              "       [3, 4, 5],\n",
              "       [4, 5, 6]])"
            ]
          },
          "metadata": {},
          "execution_count": 42
        }
      ]
    },
    {
      "cell_type": "code",
      "source": [
        "x5 = np.array([[1],[2]])\n",
        "#Não soma com outro array se não tiver o mesmo número de linhas ou de colunas"
      ],
      "metadata": {
        "id": "10TkpcQJITrb"
      },
      "execution_count": 43,
      "outputs": []
    },
    {
      "cell_type": "markdown",
      "source": [
        "####Multiplicar"
      ],
      "metadata": {
        "id": "yJsP7yHbMn4e"
      }
    },
    {
      "cell_type": "code",
      "source": [
        "# multiplicar\n",
        "# um vetor pode ser considerado uma matriz\n",
        "\n",
        "# arr1 (x,y) / arr2 (z,w) ---> y = z / arr3 (x,w)\n",
        "\n",
        "# dot produto interno entre matriz ou pode usar o @\n",
        "# np.dot(x3, x4) --> retorna o erro ValueError: shapes (3,1) and (3,3) not aligned: 1 (dim 1) != 3 (dim 0), devido uma coluna ter menos colunas do que a outra\n",
        "# ao contrário funciona np.dot(x4, x3)\n",
        "# A vezes B é diferente(!=) de B vezes A\n",
        "\n",
        "x4@x3 #np.dot(x4, x3)"
      ],
      "metadata": {
        "colab": {
          "base_uri": "https://localhost:8080/"
        },
        "id": "C50itqp3Jirx",
        "outputId": "6af4bc4c-7f58-4f90-af43-c4d3bfc7c6bc"
      },
      "execution_count": 47,
      "outputs": [
        {
          "output_type": "execute_result",
          "data": {
            "text/plain": [
              "array([[14],\n",
              "       [14],\n",
              "       [14]])"
            ]
          },
          "metadata": {},
          "execution_count": 47
        }
      ]
    },
    {
      "cell_type": "markdown",
      "source": [
        "####Divisão"
      ],
      "metadata": {
        "id": "8Y7QJo7zPB_j"
      }
    },
    {
      "cell_type": "markdown",
      "source": [
        "##### Equação fundamental da álgebra linear"
      ],
      "metadata": {
        "id": "FUdhTtcNRSbz"
      }
    },
    {
      "cell_type": "code",
      "source": [
        "# 2 .x = 4\n",
        "# A.X = Y ---> Equação fundamental da álgebra linear"
      ],
      "metadata": {
        "id": "Pg6naWRjNU5e"
      },
      "execution_count": null,
      "outputs": []
    },
    {
      "cell_type": "code",
      "source": [
        "#1*0 = 0\n",
        "#0*1 = 0\n",
        "#O python informará que não existe divisão por zero\n",
        "'''\n",
        "Para os escalares:\n",
        "O zero na soma e na subtração é o que chamamos de elemento neutro (ou seja não altera o resultado)\n",
        "Na multiplicação e na divisão o 1 é o elemento neutro\n",
        "'''"
      ],
      "metadata": {
        "colab": {
          "base_uri": "https://localhost:8080/",
          "height": 52
        },
        "id": "fmbFuJyJR3aD",
        "outputId": "77f2ff34-57d3-4ef0-8e46-4e8f6a7d28af"
      },
      "execution_count": 48,
      "outputs": [
        {
          "output_type": "execute_result",
          "data": {
            "text/plain": [
              "' \\nPara os escalares:\\nO zero na soma e na subtração é o que chamamos de elemento neutro (ou seja não altera o resultado)\\nNa multiplicação e na divisão o 1 é o elemento neutro\\n'"
            ],
            "application/vnd.google.colaboratory.intrinsic+json": {
              "type": "string"
            }
          },
          "metadata": {},
          "execution_count": 48
        }
      ]
    },
    {
      "cell_type": "code",
      "source": [
        "#criar uma matriz de zeros\n",
        "zeros = np.zeros((3,3))\n",
        "\n",
        "zeros"
      ],
      "metadata": {
        "colab": {
          "base_uri": "https://localhost:8080/"
        },
        "id": "w4gH-Mf-UaVG",
        "outputId": "eb54fd93-e896-4f91-e3e4-75b4b9e49723"
      },
      "execution_count": 50,
      "outputs": [
        {
          "output_type": "execute_result",
          "data": {
            "text/plain": [
              "array([[0., 0., 0.],\n",
              "       [0., 0., 0.],\n",
              "       [0., 0., 0.]])"
            ]
          },
          "metadata": {},
          "execution_count": 50
        }
      ]
    },
    {
      "cell_type": "code",
      "source": [
        "#vetor\n",
        "zeros = np.zeros(3)\n",
        "\n",
        "zeros"
      ],
      "metadata": {
        "colab": {
          "base_uri": "https://localhost:8080/"
        },
        "id": "UHdk3yC4UaQo",
        "outputId": "ea6343de-0c54-42b9-cd3c-5f048394c25c"
      },
      "execution_count": 51,
      "outputs": [
        {
          "output_type": "execute_result",
          "data": {
            "text/plain": [
              "array([0., 0., 0.])"
            ]
          },
          "metadata": {},
          "execution_count": 51
        }
      ]
    },
    {
      "cell_type": "code",
      "source": [
        "#Não passando como tupla o python não aceitará\n",
        "zeros = np.zeros(3,1)\n",
        "\n",
        "zeros"
      ],
      "metadata": {
        "id": "zY2FsLqGUaMW"
      },
      "execution_count": null,
      "outputs": []
    },
    {
      "cell_type": "code",
      "source": [
        "#Matriz de neutros\n",
        "zeros = np.zeros((3,3))\n",
        "ones = np.ones((3,3))\n",
        "print(zeros)\n",
        "print()\n",
        "print(ones)"
      ],
      "metadata": {
        "colab": {
          "base_uri": "https://localhost:8080/"
        },
        "id": "WUVnKjBpUaHF",
        "outputId": "d5d68fe9-b786-4d4d-84ab-54ff6beb162f"
      },
      "execution_count": 53,
      "outputs": [
        {
          "output_type": "stream",
          "name": "stdout",
          "text": [
            "[[0. 0. 0.]\n",
            " [0. 0. 0.]\n",
            " [0. 0. 0.]]\n",
            "\n",
            "[[1. 1. 1.]\n",
            " [1. 1. 1.]\n",
            " [1. 1. 1.]]\n"
          ]
        }
      ]
    },
    {
      "cell_type": "markdown",
      "source": [
        "Estrutura de uma matriz 3,3\n",
        "\n",
        "$$A = \\pmatrix{a_{00} & a_{01} & a_{02}\\\\ a_{10} & a_{11} & a_{12} \\\\ a_{20} & a_{21} & a_{22}}\n",
        "$$"
      ],
      "metadata": {
        "id": "VGKFLLH_V5lE"
      }
    },
    {
      "cell_type": "code",
      "source": [
        "#Matriz identidade\n",
        "id = np.eye(3)\n",
        "\n",
        "id"
      ],
      "metadata": {
        "colab": {
          "base_uri": "https://localhost:8080/"
        },
        "id": "zYGnN7otUaDe",
        "outputId": "98586332-e9f8-416d-f302-52e553fe7bf8"
      },
      "execution_count": 55,
      "outputs": [
        {
          "output_type": "execute_result",
          "data": {
            "text/plain": [
              "array([[1., 0., 0.],\n",
              "       [0., 1., 0.],\n",
              "       [0., 0., 1.]])"
            ]
          },
          "metadata": {},
          "execution_count": 55
        }
      ]
    },
    {
      "cell_type": "code",
      "source": [
        "x4*id"
      ],
      "metadata": {
        "colab": {
          "base_uri": "https://localhost:8080/"
        },
        "id": "1BamjeZUUZrJ",
        "outputId": "cfdb6f9e-93be-462d-ce4f-51175debaf93"
      },
      "execution_count": 56,
      "outputs": [
        {
          "output_type": "execute_result",
          "data": {
            "text/plain": [
              "array([[1., 0., 0.],\n",
              "       [0., 2., 0.],\n",
              "       [0., 0., 3.]])"
            ]
          },
          "metadata": {},
          "execution_count": 56
        }
      ]
    },
    {
      "cell_type": "code",
      "source": [
        "#Matriz identidade basta pegar a matriz e multiplicar por 1\n",
        "\n",
        "x4*1"
      ],
      "metadata": {
        "colab": {
          "base_uri": "https://localhost:8080/"
        },
        "id": "w_KBbFKtZNW2",
        "outputId": "269310bc-3218-4ea7-c62c-2e6173b30ca2"
      },
      "execution_count": 58,
      "outputs": [
        {
          "output_type": "execute_result",
          "data": {
            "text/plain": [
              "array([[1, 2, 3],\n",
              "       [1, 2, 3],\n",
              "       [1, 2, 3]])"
            ]
          },
          "metadata": {},
          "execution_count": 58
        }
      ]
    },
    {
      "cell_type": "markdown",
      "source": [
        "Matriz identidade\n",
        "--\n",
        "$$ x . x^{-1} = 1$$\n",
        "\n",
        "---\n",
        "\n",
        "matriz inversa\n",
        "--\n",
        "$$ A . A^{-1} = I$$\n",
        "\n",
        "---\n",
        "\n",
        "Eq. fundamental da álgebra\n",
        "--\n",
        "só funciona se for uma matriz quafrada colunas iguais ao número de linhas equação 1 e 3\n",
        "$$A . X = Y$$\n",
        "$$A.A^{-1}.X = Y.A^{-1}$$\n",
        "$$X = A^{-1}.Y $$"
      ],
      "metadata": {
        "id": "EJJ7XzxFZ-XE"
      }
    },
    {
      "cell_type": "code",
      "source": [],
      "metadata": {
        "id": "XznWRG2cZOtH"
      },
      "execution_count": null,
      "outputs": []
    },
    {
      "cell_type": "code",
      "source": [],
      "metadata": {
        "id": "wlerBuMaZOot"
      },
      "execution_count": null,
      "outputs": []
    },
    {
      "cell_type": "code",
      "source": [],
      "metadata": {
        "id": "wwAxSikGZOj1"
      },
      "execution_count": null,
      "outputs": []
    },
    {
      "cell_type": "code",
      "source": [],
      "metadata": {
        "id": "mDj0cgglZOfm"
      },
      "execution_count": null,
      "outputs": []
    },
    {
      "cell_type": "code",
      "source": [],
      "metadata": {
        "id": "hrjx_JjLZOL9"
      },
      "execution_count": null,
      "outputs": []
    },
    {
      "cell_type": "code",
      "source": [],
      "metadata": {
        "id": "VmKxaWmRZOHn"
      },
      "execution_count": null,
      "outputs": []
    },
    {
      "cell_type": "code",
      "source": [],
      "metadata": {
        "id": "_5IgwVChZODX"
      },
      "execution_count": null,
      "outputs": []
    },
    {
      "cell_type": "code",
      "source": [],
      "metadata": {
        "id": "_C0QAMvaZN-z"
      },
      "execution_count": null,
      "outputs": []
    },
    {
      "cell_type": "code",
      "source": [],
      "metadata": {
        "id": "UYNk2EcFZN6g"
      },
      "execution_count": null,
      "outputs": []
    },
    {
      "cell_type": "code",
      "source": [],
      "metadata": {
        "id": "jZWyyf6NZN3C"
      },
      "execution_count": null,
      "outputs": []
    },
    {
      "cell_type": "markdown",
      "source": [
        "#Video 8"
      ],
      "metadata": {
        "id": "FC_A7oYOR00-"
      }
    },
    {
      "cell_type": "code",
      "source": [],
      "metadata": {
        "id": "aT4xShPAR2vi"
      },
      "execution_count": null,
      "outputs": []
    }
  ]
}